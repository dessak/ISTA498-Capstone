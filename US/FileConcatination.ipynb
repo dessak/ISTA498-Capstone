{
 "cells": [
  {
   "cell_type": "code",
   "execution_count": null,
   "id": "419d0347",
   "metadata": {},
   "outputs": [],
   "source": [
    "'''\n",
    "Author: Dessa Keys\n",
    "Date: 2023.09\n",
    "Project: ISTA 498 Capstone\n",
    "\n",
    "Description:\n",
    "This script was created to extract all csv files from zip files in foler and then\n",
    "read the csv data into a dataframe. Finally it saves the data as an SQLite\n",
    "database file.\n",
    "'''\n",
    "\n",
    "# Imported libraries\n",
    "import os\n",
    "import zipfile\n",
    "import os\n",
    "import pandas as pd\n",
    "import sqlite3"
   ]
  },
  {
   "cell_type": "code",
   "execution_count": null,
   "id": "6c52b415",
   "metadata": {},
   "outputs": [],
   "source": [
    "# Set path\n",
    "folder_path = r'C:\\Users\\\\\\\\ISTA 498\\Code\\USNRTM'\n",
    "\n",
    "# Extract all files in folder\n",
    "for filename in os.listdir(folder_path):\n",
    "    # Check if .zip\n",
    "    if filename.endswith('.zip'):\n",
    "        # Construct full file path\n",
    "        file_path = os.path.join(folder_path, filename)\n",
    "        \n",
    "        # Open file\n",
    "        with zipfile.ZipFile(file_path, 'r') as zip_ref:\n",
    "            # Extract contents\n",
    "            zip_ref.extractall(folder_path)\n",
    "\n",
    "print(\"Extraction done!\")"
   ]
  },
  {
   "cell_type": "code",
   "execution_count": null,
   "id": "89714e62",
   "metadata": {},
   "outputs": [],
   "source": [
    "# Set path\n",
    "folder_path = r'C:\\Users\\\\\\\\ISTA 498\\Code\\USNRTM'\n",
    "\n",
    "# Make a list of files in folder\n",
    "all_files = [f for f in os.listdir(folder_path) if os.path.isfile(os.path.join(folder_path, f))]\n",
    "\n",
    "# Initialize dataframe\n",
    "all_data = pd.DataFrame()\n",
    "\n",
    "# Append contents of each file to dataframe\n",
    "for file in all_files:\n",
    "    file_path = os.path.join(folder_path, file)\n",
    "    \n",
    "    data = pd.read_csv(file_path)\n",
    "    \n",
    "    all_data = all_data.append(data, ignore_index=True)\n",
    "\n",
    "# Check header of dataframe\n",
    "all_data.head()"
   ]
  },
  {
   "cell_type": "code",
   "execution_count": null,
   "id": "c2e1e63b",
   "metadata": {},
   "outputs": [],
   "source": [
    "# Check tail of dataframe\n",
    "all_data.tail()"
   ]
  },
  {
   "cell_type": "code",
   "execution_count": null,
   "id": "2c17d0c4",
   "metadata": {},
   "outputs": [],
   "source": [
    "# Cheack earliest sample date\n",
    "all_data[f'SAMPLE COLLECTION TIME'].min()"
   ]
  },
  {
   "cell_type": "code",
   "execution_count": null,
   "id": "ceb1103c",
   "metadata": {},
   "outputs": [],
   "source": [
    "# Initialize SGLite database\n",
    "conn = sqlite3.connect('US.db')\n",
    "\n",
    "# Save dataframe to database\n",
    "all_data.to_sql('US', conn, if_exists='replace', index=False)\n",
    "\n",
    "# Close connection\n",
    "conn.close()"
   ]
  }
 ],
 "metadata": {
  "kernelspec": {
   "display_name": "Python 3 (ipykernel)",
   "language": "python",
   "name": "python3"
  },
  "language_info": {
   "codemirror_mode": {
    "name": "ipython",
    "version": 3
   },
   "file_extension": ".py",
   "mimetype": "text/x-python",
   "name": "python",
   "nbconvert_exporter": "python",
   "pygments_lexer": "ipython3",
   "version": "3.9.13"
  }
 },
 "nbformat": 4,
 "nbformat_minor": 5
}
